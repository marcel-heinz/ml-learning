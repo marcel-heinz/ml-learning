{
 "cells": [
  {
   "cell_type": "markdown",
   "metadata": {},
   "source": [
    "# Regression on  2019  Coronavirus (nCoV) Deaths\n",
    "\n",
    "Notice: This notebook is for learning purpose. It's not an official forecast!"
   ]
  },
  {
   "cell_type": "markdown",
   "metadata": {},
   "source": [
    "# Load Dependencies & Dataset"
   ]
  },
  {
   "cell_type": "code",
   "execution_count": 179,
   "metadata": {
    "ExecuteTime": {
     "end_time": "2020-02-10T16:50:27.400723Z",
     "start_time": "2020-02-10T16:50:27.390992Z"
    }
   },
   "outputs": [],
   "source": [
    "import numpy as np\n",
    "import pandas as pd\n",
    "import matplotlib.pyplot as plt\n",
    "import seaborn as sns\n",
    "from sklearn.model_selection import train_test_split\n",
    "\n",
    "from sklearn.linear_model import LinearRegression\n",
    "from sklearn import metrics\n",
    "from sklearn.preprocessing import PolynomialFeatures\n",
    "from sklearn import linear_model\n",
    "\n",
    "%matplotlib inline"
   ]
  },
  {
   "cell_type": "code",
   "execution_count": 181,
   "metadata": {
    "ExecuteTime": {
     "end_time": "2020-02-10T16:51:10.163349Z",
     "start_time": "2020-02-10T16:51:10.152172Z"
    }
   },
   "outputs": [],
   "source": [
    "df_corona = pd.read_csv('./time_series_2019-ncov-Deaths.csv')"
   ]
  },
  {
   "cell_type": "markdown",
   "metadata": {},
   "source": [
    "# Discover Dataset"
   ]
  },
  {
   "cell_type": "code",
   "execution_count": 183,
   "metadata": {
    "ExecuteTime": {
     "end_time": "2020-02-10T16:51:16.160124Z",
     "start_time": "2020-02-10T16:51:16.135787Z"
    }
   },
   "outputs": [
    {
     "data": {
      "text/html": [
       "<div>\n",
       "<style scoped>\n",
       "    .dataframe tbody tr th:only-of-type {\n",
       "        vertical-align: middle;\n",
       "    }\n",
       "\n",
       "    .dataframe tbody tr th {\n",
       "        vertical-align: top;\n",
       "    }\n",
       "\n",
       "    .dataframe thead th {\n",
       "        text-align: right;\n",
       "    }\n",
       "</style>\n",
       "<table border=\"1\" class=\"dataframe\">\n",
       "  <thead>\n",
       "    <tr style=\"text-align: right;\">\n",
       "      <th></th>\n",
       "      <th>Province/State</th>\n",
       "      <th>Country/Region</th>\n",
       "      <th>First confirmed date in country</th>\n",
       "      <th>Lat</th>\n",
       "      <th>Long</th>\n",
       "      <th>1/21/2020 10:00 PM</th>\n",
       "      <th>1/22/2020 12:00 PM</th>\n",
       "      <th>1/23/2020 12:00 PM</th>\n",
       "      <th>1/24/2020 12:00 AM</th>\n",
       "      <th>1/24/2020 12:00 PM</th>\n",
       "      <th>...</th>\n",
       "      <th>2/4/2020 9:40 AM</th>\n",
       "      <th>2/4/2020 10:00 PM</th>\n",
       "      <th>2/5/2020 9:00 AM</th>\n",
       "      <th>2/5/2020 11:00 PM</th>\n",
       "      <th>2/6/2020 9:00 AM</th>\n",
       "      <th>2/6/2020 2:20 PM</th>\n",
       "      <th>2/7/2020 8:13 PM</th>\n",
       "      <th>2/7/2020 10:50 PM</th>\n",
       "      <th>2/8/2020 10:24 AM</th>\n",
       "      <th>2/8/2020 11:04 PM</th>\n",
       "    </tr>\n",
       "  </thead>\n",
       "  <tbody>\n",
       "    <tr>\n",
       "      <th>0</th>\n",
       "      <td>Anhui</td>\n",
       "      <td>Mainland China</td>\n",
       "      <td>1/3/2020</td>\n",
       "      <td>31.82571</td>\n",
       "      <td>117.2264</td>\n",
       "      <td>NaN</td>\n",
       "      <td>NaN</td>\n",
       "      <td>NaN</td>\n",
       "      <td>NaN</td>\n",
       "      <td>NaN</td>\n",
       "      <td>...</td>\n",
       "      <td>NaN</td>\n",
       "      <td>NaN</td>\n",
       "      <td>NaN</td>\n",
       "      <td>NaN</td>\n",
       "      <td>NaN</td>\n",
       "      <td>NaN</td>\n",
       "      <td>NaN</td>\n",
       "      <td>NaN</td>\n",
       "      <td>0</td>\n",
       "      <td>1</td>\n",
       "    </tr>\n",
       "    <tr>\n",
       "      <th>1</th>\n",
       "      <td>Beijing</td>\n",
       "      <td>Mainland China</td>\n",
       "      <td>1/3/2020</td>\n",
       "      <td>40.18238</td>\n",
       "      <td>116.4142</td>\n",
       "      <td>NaN</td>\n",
       "      <td>NaN</td>\n",
       "      <td>NaN</td>\n",
       "      <td>NaN</td>\n",
       "      <td>NaN</td>\n",
       "      <td>...</td>\n",
       "      <td>1.0</td>\n",
       "      <td>1.0</td>\n",
       "      <td>1.0</td>\n",
       "      <td>1.0</td>\n",
       "      <td>1.0</td>\n",
       "      <td>1.0</td>\n",
       "      <td>1.0</td>\n",
       "      <td>2.0</td>\n",
       "      <td>2</td>\n",
       "      <td>2</td>\n",
       "    </tr>\n",
       "    <tr>\n",
       "      <th>2</th>\n",
       "      <td>Chongqing</td>\n",
       "      <td>Mainland China</td>\n",
       "      <td>1/3/2020</td>\n",
       "      <td>30.05718</td>\n",
       "      <td>107.8740</td>\n",
       "      <td>NaN</td>\n",
       "      <td>NaN</td>\n",
       "      <td>NaN</td>\n",
       "      <td>NaN</td>\n",
       "      <td>NaN</td>\n",
       "      <td>...</td>\n",
       "      <td>2.0</td>\n",
       "      <td>2.0</td>\n",
       "      <td>2.0</td>\n",
       "      <td>2.0</td>\n",
       "      <td>2.0</td>\n",
       "      <td>2.0</td>\n",
       "      <td>2.0</td>\n",
       "      <td>2.0</td>\n",
       "      <td>2</td>\n",
       "      <td>2</td>\n",
       "    </tr>\n",
       "    <tr>\n",
       "      <th>3</th>\n",
       "      <td>Fujian</td>\n",
       "      <td>Mainland China</td>\n",
       "      <td>1/3/2020</td>\n",
       "      <td>26.07783</td>\n",
       "      <td>117.9895</td>\n",
       "      <td>NaN</td>\n",
       "      <td>NaN</td>\n",
       "      <td>NaN</td>\n",
       "      <td>NaN</td>\n",
       "      <td>NaN</td>\n",
       "      <td>...</td>\n",
       "      <td>NaN</td>\n",
       "      <td>NaN</td>\n",
       "      <td>NaN</td>\n",
       "      <td>NaN</td>\n",
       "      <td>NaN</td>\n",
       "      <td>NaN</td>\n",
       "      <td>NaN</td>\n",
       "      <td>NaN</td>\n",
       "      <td>0</td>\n",
       "      <td>0</td>\n",
       "    </tr>\n",
       "    <tr>\n",
       "      <th>4</th>\n",
       "      <td>Gansu</td>\n",
       "      <td>Mainland China</td>\n",
       "      <td>1/3/2020</td>\n",
       "      <td>36.06110</td>\n",
       "      <td>103.8343</td>\n",
       "      <td>NaN</td>\n",
       "      <td>NaN</td>\n",
       "      <td>NaN</td>\n",
       "      <td>NaN</td>\n",
       "      <td>NaN</td>\n",
       "      <td>...</td>\n",
       "      <td>NaN</td>\n",
       "      <td>NaN</td>\n",
       "      <td>NaN</td>\n",
       "      <td>NaN</td>\n",
       "      <td>NaN</td>\n",
       "      <td>NaN</td>\n",
       "      <td>NaN</td>\n",
       "      <td>1.0</td>\n",
       "      <td>1</td>\n",
       "      <td>1</td>\n",
       "    </tr>\n",
       "  </tbody>\n",
       "</table>\n",
       "<p>5 rows × 40 columns</p>\n",
       "</div>"
      ],
      "text/plain": [
       "  Province/State  Country/Region First confirmed date in country       Lat  \\\n",
       "0          Anhui  Mainland China                        1/3/2020  31.82571   \n",
       "1        Beijing  Mainland China                        1/3/2020  40.18238   \n",
       "2      Chongqing  Mainland China                        1/3/2020  30.05718   \n",
       "3         Fujian  Mainland China                        1/3/2020  26.07783   \n",
       "4          Gansu  Mainland China                        1/3/2020  36.06110   \n",
       "\n",
       "       Long  1/21/2020 10:00 PM  1/22/2020 12:00 PM  1/23/2020 12:00 PM  \\\n",
       "0  117.2264                 NaN                 NaN                 NaN   \n",
       "1  116.4142                 NaN                 NaN                 NaN   \n",
       "2  107.8740                 NaN                 NaN                 NaN   \n",
       "3  117.9895                 NaN                 NaN                 NaN   \n",
       "4  103.8343                 NaN                 NaN                 NaN   \n",
       "\n",
       "   1/24/2020 12:00 AM  1/24/2020 12:00 PM  ...  2/4/2020 9:40 AM  \\\n",
       "0                 NaN                 NaN  ...               NaN   \n",
       "1                 NaN                 NaN  ...               1.0   \n",
       "2                 NaN                 NaN  ...               2.0   \n",
       "3                 NaN                 NaN  ...               NaN   \n",
       "4                 NaN                 NaN  ...               NaN   \n",
       "\n",
       "   2/4/2020 10:00 PM  2/5/2020 9:00 AM  2/5/2020 11:00 PM  2/6/2020 9:00 AM  \\\n",
       "0                NaN               NaN                NaN               NaN   \n",
       "1                1.0               1.0                1.0               1.0   \n",
       "2                2.0               2.0                2.0               2.0   \n",
       "3                NaN               NaN                NaN               NaN   \n",
       "4                NaN               NaN                NaN               NaN   \n",
       "\n",
       "   2/6/2020 2:20 PM  2/7/2020 8:13 PM  2/7/2020 10:50 PM  2/8/2020 10:24 AM  \\\n",
       "0               NaN               NaN                NaN                  0   \n",
       "1               1.0               1.0                2.0                  2   \n",
       "2               2.0               2.0                2.0                  2   \n",
       "3               NaN               NaN                NaN                  0   \n",
       "4               NaN               NaN                1.0                  1   \n",
       "\n",
       "   2/8/2020 11:04 PM  \n",
       "0                  1  \n",
       "1                  2  \n",
       "2                  2  \n",
       "3                  0  \n",
       "4                  1  \n",
       "\n",
       "[5 rows x 40 columns]"
      ]
     },
     "execution_count": 183,
     "metadata": {},
     "output_type": "execute_result"
    }
   ],
   "source": [
    "df_corona.head()"
   ]
  },
  {
   "cell_type": "code",
   "execution_count": 184,
   "metadata": {
    "ExecuteTime": {
     "end_time": "2020-02-10T16:51:21.247093Z",
     "start_time": "2020-02-10T16:51:21.241391Z"
    }
   },
   "outputs": [
    {
     "name": "stdout",
     "output_type": "stream",
     "text": [
      "<class 'pandas.core.frame.DataFrame'>\n",
      "RangeIndex: 72 entries, 0 to 71\n",
      "Columns: 40 entries, Province/State to 2/8/2020 11:04 PM\n",
      "dtypes: float64(35), int64(2), object(3)\n",
      "memory usage: 22.6+ KB\n"
     ]
    }
   ],
   "source": [
    "df_corona.info(verbose=False)"
   ]
  },
  {
   "cell_type": "code",
   "execution_count": 185,
   "metadata": {
    "ExecuteTime": {
     "end_time": "2020-02-10T16:51:24.229748Z",
     "start_time": "2020-02-10T16:51:24.103212Z"
    }
   },
   "outputs": [
    {
     "data": {
      "text/html": [
       "<div>\n",
       "<style scoped>\n",
       "    .dataframe tbody tr th:only-of-type {\n",
       "        vertical-align: middle;\n",
       "    }\n",
       "\n",
       "    .dataframe tbody tr th {\n",
       "        vertical-align: top;\n",
       "    }\n",
       "\n",
       "    .dataframe thead th {\n",
       "        text-align: right;\n",
       "    }\n",
       "</style>\n",
       "<table border=\"1\" class=\"dataframe\">\n",
       "  <thead>\n",
       "    <tr style=\"text-align: right;\">\n",
       "      <th></th>\n",
       "      <th>Lat</th>\n",
       "      <th>Long</th>\n",
       "      <th>1/21/2020 10:00 PM</th>\n",
       "      <th>1/22/2020 12:00 PM</th>\n",
       "      <th>1/23/2020 12:00 PM</th>\n",
       "      <th>1/24/2020 12:00 AM</th>\n",
       "      <th>1/24/2020 12:00 PM</th>\n",
       "      <th>1/25/2020 12:00 AM</th>\n",
       "      <th>1/25/2020 12:00 PM</th>\n",
       "      <th>1/25/2020 10:00 PM</th>\n",
       "      <th>...</th>\n",
       "      <th>2/4/2020 9:40 AM</th>\n",
       "      <th>2/4/2020 10:00 PM</th>\n",
       "      <th>2/5/2020 9:00 AM</th>\n",
       "      <th>2/5/2020 11:00 PM</th>\n",
       "      <th>2/6/2020 9:00 AM</th>\n",
       "      <th>2/6/2020 2:20 PM</th>\n",
       "      <th>2/7/2020 8:13 PM</th>\n",
       "      <th>2/7/2020 10:50 PM</th>\n",
       "      <th>2/8/2020 10:24 AM</th>\n",
       "      <th>2/8/2020 11:04 PM</th>\n",
       "    </tr>\n",
       "  </thead>\n",
       "  <tbody>\n",
       "    <tr>\n",
       "      <th>count</th>\n",
       "      <td>72.000000</td>\n",
       "      <td>72.000000</td>\n",
       "      <td>0.0</td>\n",
       "      <td>0.0</td>\n",
       "      <td>0.0</td>\n",
       "      <td>3.000000</td>\n",
       "      <td>3.000000</td>\n",
       "      <td>3.000000</td>\n",
       "      <td>3.00000</td>\n",
       "      <td>4.00</td>\n",
       "      <td>...</td>\n",
       "      <td>10.00000</td>\n",
       "      <td>11.000000</td>\n",
       "      <td>13.000000</td>\n",
       "      <td>13.000000</td>\n",
       "      <td>13.000000</td>\n",
       "      <td>13.000000</td>\n",
       "      <td>15.000000</td>\n",
       "      <td>16.000000</td>\n",
       "      <td>72.000000</td>\n",
       "      <td>72.000000</td>\n",
       "    </tr>\n",
       "    <tr>\n",
       "      <th>mean</th>\n",
       "      <td>30.244784</td>\n",
       "      <td>64.661324</td>\n",
       "      <td>NaN</td>\n",
       "      <td>NaN</td>\n",
       "      <td>NaN</td>\n",
       "      <td>8.666667</td>\n",
       "      <td>8.666667</td>\n",
       "      <td>11.333333</td>\n",
       "      <td>14.00000</td>\n",
       "      <td>13.75</td>\n",
       "      <td>...</td>\n",
       "      <td>42.60000</td>\n",
       "      <td>44.727273</td>\n",
       "      <td>38.000000</td>\n",
       "      <td>43.461538</td>\n",
       "      <td>43.461538</td>\n",
       "      <td>43.461538</td>\n",
       "      <td>42.533333</td>\n",
       "      <td>45.250000</td>\n",
       "      <td>10.069444</td>\n",
       "      <td>11.291667</td>\n",
       "    </tr>\n",
       "    <tr>\n",
       "      <th>std</th>\n",
       "      <td>19.802033</td>\n",
       "      <td>84.254666</td>\n",
       "      <td>NaN</td>\n",
       "      <td>NaN</td>\n",
       "      <td>NaN</td>\n",
       "      <td>13.279056</td>\n",
       "      <td>13.279056</td>\n",
       "      <td>17.897858</td>\n",
       "      <td>22.51666</td>\n",
       "      <td>25.50</td>\n",
       "      <td>...</td>\n",
       "      <td>130.49751</td>\n",
       "      <td>144.032698</td>\n",
       "      <td>132.504717</td>\n",
       "      <td>151.896684</td>\n",
       "      <td>151.896684</td>\n",
       "      <td>151.896684</td>\n",
       "      <td>159.199725</td>\n",
       "      <td>174.337412</td>\n",
       "      <td>82.339443</td>\n",
       "      <td>91.875672</td>\n",
       "    </tr>\n",
       "    <tr>\n",
       "      <th>min</th>\n",
       "      <td>-37.813600</td>\n",
       "      <td>-123.121000</td>\n",
       "      <td>NaN</td>\n",
       "      <td>NaN</td>\n",
       "      <td>NaN</td>\n",
       "      <td>1.000000</td>\n",
       "      <td>1.000000</td>\n",
       "      <td>1.000000</td>\n",
       "      <td>1.00000</td>\n",
       "      <td>1.00</td>\n",
       "      <td>...</td>\n",
       "      <td>1.00000</td>\n",
       "      <td>1.000000</td>\n",
       "      <td>1.000000</td>\n",
       "      <td>1.000000</td>\n",
       "      <td>1.000000</td>\n",
       "      <td>1.000000</td>\n",
       "      <td>1.000000</td>\n",
       "      <td>1.000000</td>\n",
       "      <td>0.000000</td>\n",
       "      <td>0.000000</td>\n",
       "    </tr>\n",
       "    <tr>\n",
       "      <th>25%</th>\n",
       "      <td>23.796260</td>\n",
       "      <td>17.124475</td>\n",
       "      <td>NaN</td>\n",
       "      <td>NaN</td>\n",
       "      <td>NaN</td>\n",
       "      <td>1.000000</td>\n",
       "      <td>1.000000</td>\n",
       "      <td>1.000000</td>\n",
       "      <td>1.00000</td>\n",
       "      <td>1.00</td>\n",
       "      <td>...</td>\n",
       "      <td>1.00000</td>\n",
       "      <td>1.000000</td>\n",
       "      <td>1.000000</td>\n",
       "      <td>1.000000</td>\n",
       "      <td>1.000000</td>\n",
       "      <td>1.000000</td>\n",
       "      <td>1.000000</td>\n",
       "      <td>1.000000</td>\n",
       "      <td>0.000000</td>\n",
       "      <td>0.000000</td>\n",
       "    </tr>\n",
       "    <tr>\n",
       "      <th>50%</th>\n",
       "      <td>34.050550</td>\n",
       "      <td>105.999850</td>\n",
       "      <td>NaN</td>\n",
       "      <td>NaN</td>\n",
       "      <td>NaN</td>\n",
       "      <td>1.000000</td>\n",
       "      <td>1.000000</td>\n",
       "      <td>1.000000</td>\n",
       "      <td>1.00000</td>\n",
       "      <td>1.00</td>\n",
       "      <td>...</td>\n",
       "      <td>1.00000</td>\n",
       "      <td>1.000000</td>\n",
       "      <td>1.000000</td>\n",
       "      <td>1.000000</td>\n",
       "      <td>1.000000</td>\n",
       "      <td>1.000000</td>\n",
       "      <td>1.000000</td>\n",
       "      <td>1.000000</td>\n",
       "      <td>0.000000</td>\n",
       "      <td>0.000000</td>\n",
       "    </tr>\n",
       "    <tr>\n",
       "      <th>75%</th>\n",
       "      <td>41.163068</td>\n",
       "      <td>117.253050</td>\n",
       "      <td>NaN</td>\n",
       "      <td>NaN</td>\n",
       "      <td>NaN</td>\n",
       "      <td>12.500000</td>\n",
       "      <td>12.500000</td>\n",
       "      <td>16.500000</td>\n",
       "      <td>20.50000</td>\n",
       "      <td>13.75</td>\n",
       "      <td>...</td>\n",
       "      <td>2.00000</td>\n",
       "      <td>2.000000</td>\n",
       "      <td>2.000000</td>\n",
       "      <td>2.000000</td>\n",
       "      <td>2.000000</td>\n",
       "      <td>2.000000</td>\n",
       "      <td>2.000000</td>\n",
       "      <td>2.000000</td>\n",
       "      <td>0.000000</td>\n",
       "      <td>1.000000</td>\n",
       "    </tr>\n",
       "    <tr>\n",
       "      <th>max</th>\n",
       "      <td>61.924100</td>\n",
       "      <td>153.025100</td>\n",
       "      <td>NaN</td>\n",
       "      <td>NaN</td>\n",
       "      <td>NaN</td>\n",
       "      <td>24.000000</td>\n",
       "      <td>24.000000</td>\n",
       "      <td>32.000000</td>\n",
       "      <td>40.00000</td>\n",
       "      <td>52.00</td>\n",
       "      <td>...</td>\n",
       "      <td>414.00000</td>\n",
       "      <td>479.000000</td>\n",
       "      <td>479.000000</td>\n",
       "      <td>549.000000</td>\n",
       "      <td>549.000000</td>\n",
       "      <td>549.000000</td>\n",
       "      <td>618.000000</td>\n",
       "      <td>699.000000</td>\n",
       "      <td>699.000000</td>\n",
       "      <td>780.000000</td>\n",
       "    </tr>\n",
       "  </tbody>\n",
       "</table>\n",
       "<p>8 rows × 37 columns</p>\n",
       "</div>"
      ],
      "text/plain": [
       "             Lat        Long  1/21/2020 10:00 PM  1/22/2020 12:00 PM  \\\n",
       "count  72.000000   72.000000                 0.0                 0.0   \n",
       "mean   30.244784   64.661324                 NaN                 NaN   \n",
       "std    19.802033   84.254666                 NaN                 NaN   \n",
       "min   -37.813600 -123.121000                 NaN                 NaN   \n",
       "25%    23.796260   17.124475                 NaN                 NaN   \n",
       "50%    34.050550  105.999850                 NaN                 NaN   \n",
       "75%    41.163068  117.253050                 NaN                 NaN   \n",
       "max    61.924100  153.025100                 NaN                 NaN   \n",
       "\n",
       "       1/23/2020 12:00 PM  1/24/2020 12:00 AM  1/24/2020 12:00 PM  \\\n",
       "count                 0.0            3.000000            3.000000   \n",
       "mean                  NaN            8.666667            8.666667   \n",
       "std                   NaN           13.279056           13.279056   \n",
       "min                   NaN            1.000000            1.000000   \n",
       "25%                   NaN            1.000000            1.000000   \n",
       "50%                   NaN            1.000000            1.000000   \n",
       "75%                   NaN           12.500000           12.500000   \n",
       "max                   NaN           24.000000           24.000000   \n",
       "\n",
       "       1/25/2020 12:00 AM  1/25/2020 12:00 PM  1/25/2020 10:00 PM  ...  \\\n",
       "count            3.000000             3.00000                4.00  ...   \n",
       "mean            11.333333            14.00000               13.75  ...   \n",
       "std             17.897858            22.51666               25.50  ...   \n",
       "min              1.000000             1.00000                1.00  ...   \n",
       "25%              1.000000             1.00000                1.00  ...   \n",
       "50%              1.000000             1.00000                1.00  ...   \n",
       "75%             16.500000            20.50000               13.75  ...   \n",
       "max             32.000000            40.00000               52.00  ...   \n",
       "\n",
       "       2/4/2020 9:40 AM  2/4/2020 10:00 PM  2/5/2020 9:00 AM  \\\n",
       "count          10.00000          11.000000         13.000000   \n",
       "mean           42.60000          44.727273         38.000000   \n",
       "std           130.49751         144.032698        132.504717   \n",
       "min             1.00000           1.000000          1.000000   \n",
       "25%             1.00000           1.000000          1.000000   \n",
       "50%             1.00000           1.000000          1.000000   \n",
       "75%             2.00000           2.000000          2.000000   \n",
       "max           414.00000         479.000000        479.000000   \n",
       "\n",
       "       2/5/2020 11:00 PM  2/6/2020 9:00 AM  2/6/2020 2:20 PM  \\\n",
       "count          13.000000         13.000000         13.000000   \n",
       "mean           43.461538         43.461538         43.461538   \n",
       "std           151.896684        151.896684        151.896684   \n",
       "min             1.000000          1.000000          1.000000   \n",
       "25%             1.000000          1.000000          1.000000   \n",
       "50%             1.000000          1.000000          1.000000   \n",
       "75%             2.000000          2.000000          2.000000   \n",
       "max           549.000000        549.000000        549.000000   \n",
       "\n",
       "       2/7/2020 8:13 PM  2/7/2020 10:50 PM  2/8/2020 10:24 AM  \\\n",
       "count         15.000000          16.000000          72.000000   \n",
       "mean          42.533333          45.250000          10.069444   \n",
       "std          159.199725         174.337412          82.339443   \n",
       "min            1.000000           1.000000           0.000000   \n",
       "25%            1.000000           1.000000           0.000000   \n",
       "50%            1.000000           1.000000           0.000000   \n",
       "75%            2.000000           2.000000           0.000000   \n",
       "max          618.000000         699.000000         699.000000   \n",
       "\n",
       "       2/8/2020 11:04 PM  \n",
       "count          72.000000  \n",
       "mean           11.291667  \n",
       "std            91.875672  \n",
       "min             0.000000  \n",
       "25%             0.000000  \n",
       "50%             0.000000  \n",
       "75%             1.000000  \n",
       "max           780.000000  \n",
       "\n",
       "[8 rows x 37 columns]"
      ]
     },
     "execution_count": 185,
     "metadata": {},
     "output_type": "execute_result"
    }
   ],
   "source": [
    "df_corona.describe()"
   ]
  },
  {
   "cell_type": "code",
   "execution_count": 192,
   "metadata": {
    "ExecuteTime": {
     "end_time": "2020-02-10T16:57:27.039300Z",
     "start_time": "2020-02-10T16:57:27.032989Z"
    }
   },
   "outputs": [
    {
     "data": {
      "text/plain": [
       "Index(['Province/State', 'Country/Region', 'First confirmed date in country',\n",
       "       'Lat', 'Long', '1/21/2020 10:00 PM', '1/22/2020 12:00 PM',\n",
       "       '1/23/2020 12:00 PM', '1/24/2020 12:00 AM', '1/24/2020 12:00 PM',\n",
       "       '1/25/2020 12:00 AM', '1/25/2020 12:00 PM', '1/25/2020 10:00 PM',\n",
       "       '1/26/2020 11:00 AM', '1/26/2020 11:00 PM', '1/27/2020 9:00 AM',\n",
       "       '1/27/2020 7:00 PM', '1/27/2020 8:30 PM', '1/28/2020 1:00 PM',\n",
       "       '1/28/2020 6:00 PM', '1/28/2020 11:00 PM', '1/29/2020 1:30 PM',\n",
       "       '1/29/2020 2:30 PM', '1/29/2020 9:00 PM', '1/30/2020 11:00 AM',\n",
       "       '1/31/2020 2:00 PM', '1/31/2020 7:00 PM', '2/1/2020 10:00 AM',\n",
       "       '2/2/2020 9:00 PM', '2/3/2020 9:00 PM', '2/4/2020 9:40 AM',\n",
       "       '2/4/2020 10:00 PM', '2/5/2020 9:00 AM', '2/5/2020 11:00 PM',\n",
       "       '2/6/2020 9:00 AM', '2/6/2020 2:20 PM', '2/7/2020 8:13 PM',\n",
       "       '2/7/2020 10:50 PM', '2/8/2020 10:24 AM', '2/8/2020 11:04 PM'],\n",
       "      dtype='object')"
      ]
     },
     "execution_count": 192,
     "metadata": {},
     "output_type": "execute_result"
    }
   ],
   "source": [
    "df_corona.columns"
   ]
  },
  {
   "cell_type": "markdown",
   "metadata": {},
   "source": [
    "## Check Countries"
   ]
  },
  {
   "cell_type": "code",
   "execution_count": 186,
   "metadata": {
    "ExecuteTime": {
     "end_time": "2020-02-10T16:51:28.592468Z",
     "start_time": "2020-02-10T16:51:28.584415Z"
    }
   },
   "outputs": [
    {
     "data": {
      "text/plain": [
       "Mainland China          31\n",
       "US                       9\n",
       "Australia                4\n",
       "Canada                   3\n",
       "Russia                   1\n",
       "Italy                    1\n",
       "Macau                    1\n",
       "Others                   1\n",
       "Belgium                  1\n",
       "France                   1\n",
       "Nepal                    1\n",
       "Malaysia                 1\n",
       "Vietnam                  1\n",
       "Finland                  1\n",
       "Germany                  1\n",
       "Sri Lanka                1\n",
       "India                    1\n",
       "United Arab Emirates     1\n",
       "South Korea              1\n",
       "Singapore                1\n",
       "Taiwan                   1\n",
       "Spain                    1\n",
       "Philippines              1\n",
       "Cambodia                 1\n",
       "Hong Kong                1\n",
       "Japan                    1\n",
       "Thailand                 1\n",
       "UK                       1\n",
       "Sweden                   1\n",
       "Name: Country/Region, dtype: int64"
      ]
     },
     "execution_count": 186,
     "metadata": {},
     "output_type": "execute_result"
    }
   ],
   "source": [
    "df_corona.loc[:,'Country/Region'].value_counts()"
   ]
  },
  {
   "cell_type": "markdown",
   "metadata": {},
   "source": [
    "## Retrieve & organize data\n",
    "\n",
    "Get data for Hubei, China. Hubei is the province where Wuhan is. This location counts the highest number of deaths from 24.01."
   ]
  },
  {
   "cell_type": "code",
   "execution_count": 240,
   "metadata": {
    "ExecuteTime": {
     "end_time": "2020-02-10T17:08:22.045108Z",
     "start_time": "2020-02-10T17:08:22.033988Z"
    }
   },
   "outputs": [],
   "source": [
    "wuhan_deaths = df_cor[df_corona['Province/State'] == 'Hubei'].dropna(axis=1).drop(labels=['Province/State', 'Country/Region', 'First confirmed date in country', 'Lat', 'Long'], axis=1)"
   ]
  },
  {
   "cell_type": "code",
   "execution_count": 241,
   "metadata": {
    "ExecuteTime": {
     "end_time": "2020-02-10T17:08:22.420832Z",
     "start_time": "2020-02-10T17:08:22.412484Z"
    }
   },
   "outputs": [],
   "source": [
    "all_dates = []\n",
    "for i in wuhan_deaths.columns:\n",
    "    all_dates.append(i[0:9])\n",
    "\n",
    "unique_date_indices = []\n",
    "for x in set(all_dates):\n",
    "    unique_date_indices.append(all_dates.index(x))   \n",
    "unique_dates = np.sort(unique_date_indices)\n",
    "\n",
    "wuhan_deaths = np.array(wuhan_deaths.iloc[:, unique_dates])[0]\n",
    "\n",
    "days_of_virus = np.array(range(1, len(wuhan_deaths)+1))"
   ]
  },
  {
   "cell_type": "markdown",
   "metadata": {},
   "source": [
    "## Plot data"
   ]
  },
  {
   "cell_type": "code",
   "execution_count": 256,
   "metadata": {
    "ExecuteTime": {
     "end_time": "2020-02-10T17:11:42.886167Z",
     "start_time": "2020-02-10T17:11:42.459023Z"
    }
   },
   "outputs": [
    {
     "data": {
      "image/png": "[encoded data removed]",
      "text/plain": [
       "<Figure size 1440x576 with 1 Axes>"
      ]
     },
     "metadata": {
      "needs_background": "light"
     },
     "output_type": "display_data"
    }
   ],
   "source": [
    "# plot\n",
    "color_violet = '#6200ea'\n",
    "accent_color = '#CDDC39'\n",
    "\n",
    "fig, ax = plt.subplots(figsize=(20,8))\n",
    "plt.scatter(days_of_virus, wuhan_deaths, linewidth=8, color=color_violet)\n",
    "plt.plot(days_of_virus, wuhan_deaths, linewidth=2, color=color_violet)\n",
    "\n",
    "# place a text box\n",
    "style = dict(boxstyle='round', facecolor=accent_color, alpha=0.3)\n",
    "ax.text(0.88, 0.95, '9 Feb 2020', transform=ax.transAxes, fontsize=15, verticalalignment='top',bbox=style)\n",
    "ax.text(0.01, 0.1, '24 Jan 2020', transform=ax.transAxes, fontsize=15, verticalalignment='top', bbox=style)\n",
    "\n",
    "plt.grid(alpha=0.5)\n",
    "plt.ylim([0,800])\n",
    "plt.xticks(ticks=days_of_virus, labels=[f'Day {i}' for i in days_of_virus], rotation=45, size=12)\n",
    "plt.xlabel('Days of Official Reporting (t)', size=30)\n",
    "plt.ylabel('Total Deaths', size=30)\n",
    "plt.title('Number of Deaths from nCoV in Hubei', size=30)\n",
    "plt.show()"
   ]
  },
  {
   "cell_type": "markdown",
   "metadata": {},
   "source": [
    "# Regression Analysis"
   ]
  },
  {
   "cell_type": "code",
   "execution_count": 336,
   "metadata": {
    "ExecuteTime": {
     "end_time": "2020-02-10T17:27:54.916401Z",
     "start_time": "2020-02-10T17:27:54.912765Z"
    }
   },
   "outputs": [],
   "source": [
    "X = days_of_virus\n",
    "y = wuhan_deaths\n",
    "days_prediction = np.arange(1,31) #prediction for days 0-30"
   ]
  },
  {
   "cell_type": "code",
   "execution_count": 337,
   "metadata": {
    "ExecuteTime": {
     "end_time": "2020-02-10T17:27:55.222538Z",
     "start_time": "2020-02-10T17:27:55.217153Z"
    }
   },
   "outputs": [],
   "source": [
    "poly = PolynomialFeatures(degree=2) #2nd poly-order\n",
    "X_ = poly.fit_transform(X.reshape(-1,1))\n",
    "\n",
    "X_test_ = poly.fit_transform(days_prediction.reshape(-1,1))"
   ]
  },
  {
   "cell_type": "markdown",
   "metadata": {},
   "source": [
    "## Build Model"
   ]
  },
  {
   "cell_type": "code",
   "execution_count": 338,
   "metadata": {
    "ExecuteTime": {
     "end_time": "2020-02-10T17:27:55.849788Z",
     "start_time": "2020-02-10T17:27:55.840151Z"
    }
   },
   "outputs": [
    {
     "data": {
      "text/plain": [
       "array([ 0.        , 10.43042717,  2.07580532])"
      ]
     },
     "execution_count": 338,
     "metadata": {},
     "output_type": "execute_result"
    }
   ],
   "source": [
    "coronaReg = LinearRegression()\n",
    "\n",
    "# Fit\n",
    "coronaReg.fit(X_, y)\n",
    "\n",
    "# Obtain coefficients\n",
    "coronaReg.coef_"
   ]
  },
  {
   "cell_type": "markdown",
   "metadata": {},
   "source": [
    "## Prediction"
   ]
  },
  {
   "cell_type": "code",
   "execution_count": 344,
   "metadata": {
    "ExecuteTime": {
     "end_time": "2020-02-10T17:29:33.255555Z",
     "start_time": "2020-02-10T17:29:33.250998Z"
    }
   },
   "outputs": [],
   "source": [
    "predicted_deaths = coronaReg.predict(X_test_)"
   ]
  },
  {
   "cell_type": "code",
   "execution_count": 345,
   "metadata": {
    "ExecuteTime": {
     "end_time": "2020-02-10T17:29:34.326557Z",
     "start_time": "2020-02-10T17:29:34.319228Z"
    }
   },
   "outputs": [
    {
     "name": "stdout",
     "output_type": "stream",
     "text": [
      "The intercept term of the linear model: 1.4410714285717177\n",
      "The coefficients of the linear model: [ 0.         10.43042717  2.07580532]\n"
     ]
    }
   ],
   "source": [
    "print(\"The intercept term of the linear model:\", coronaReg.intercept_)\n",
    "print(\"The coefficients of the linear model:\", coronaReg.coef_)"
   ]
  },
  {
   "cell_type": "markdown",
   "metadata": {},
   "source": [
    "## Plot Prediction"
   ]
  },
  {
   "cell_type": "code",
   "execution_count": 346,
   "metadata": {
    "ExecuteTime": {
     "end_time": "2020-02-10T17:29:57.347317Z",
     "start_time": "2020-02-10T17:29:56.837639Z"
    }
   },
   "outputs": [
    {
     "data": {
      "image/png": "[encoded data removed]",
      "text/plain": [
       "<Figure size 1440x576 with 1 Axes>"
      ]
     },
     "metadata": {
      "needs_background": "light"
     },
     "output_type": "display_data"
    }
   ],
   "source": [
    "# plot\n",
    "color_violet = '#6200ea'\n",
    "accent_color = '#CDDC39'\n",
    "\n",
    "color_2 = '#C2185B'\n",
    "color_2_acc = '#00BCD4'\n",
    "\n",
    "fig, ax = plt.subplots(figsize=(20,8))\n",
    "\n",
    "plt.scatter(days_prediction, predicted_deaths, linewidth=8, color=color_2)\n",
    "plt.plot(days_prediction, predicted_deaths, linewidth=2, color=color_2,label=\"Forecast\")\n",
    "\n",
    "plt.scatter(days_of_virus, wuhan_deaths, linewidth=8, color=color_violet)\n",
    "plt.plot(days_of_virus, wuhan_deaths, linewidth=2, color=color_violet,label=\"Ground Truth\")\n",
    "\n",
    "# place a text box\n",
    "style = dict(boxstyle='round', facecolor=accent_color, alpha=0.3)\n",
    "ax.text(0.9, 0.90, '23 Feb 2020', transform=ax.transAxes, fontsize=15, verticalalignment='top',bbox=style)\n",
    "ax.text(0.48, 0.40, '9 Feb 2020', transform=ax.transAxes, fontsize=15, verticalalignment='top',bbox=style)\n",
    "ax.text(0.01, 0.1, '24 Jan 2020', transform=ax.transAxes, fontsize=15, verticalalignment='top', bbox=style)\n",
    "\n",
    "plt.grid(alpha=0.5)\n",
    "plt.ylim([0,2800])\n",
    "plt.xticks(ticks=days_prediction, labels=[f'Day {i}' for i in days_prediction], rotation=45, size=12)\n",
    "plt.xlabel('Days of Reporting + Forecast', size=30)\n",
    "plt.ylabel('Total Deaths', size=30)\n",
    "plt.title('Deaths from nCoV in Hubei\\nGround Truth vs. Forecast', size=30)\n",
    "plt.legend(loc=\"upper left\")\n",
    "plt.show()"
   ]
  },
  {
   "cell_type": "markdown",
   "metadata": {},
   "source": [
    "# Regression evaluation metrices"
   ]
  },
  {
   "cell_type": "code",
   "execution_count": 343,
   "metadata": {
    "ExecuteTime": {
     "end_time": "2020-02-10T17:29:01.527142Z",
     "start_time": "2020-02-10T17:29:01.515065Z"
    }
   },
   "outputs": [
    {
     "name": "stdout",
     "output_type": "stream",
     "text": [
      "R-squared value of this fit: 0.994\n",
      "Mean absolute error (MAE): 11.919857317927118\n",
      "Mean square error (MSE): 295.6743456757704\n",
      "Root mean square error (RMSE): 17.195183793020952\n"
     ]
    }
   ],
   "source": [
    "print(\"R-squared value of this fit:\",round(metrics.r2_score(y,predicted_deaths[:16]),3))\n",
    "print(\"Mean absolute error (MAE):\", metrics.mean_absolute_error(y,predicted_deaths[:16]))\n",
    "print(\"Mean square error (MSE):\", metrics.mean_squared_error(y,predicted_deaths[:16]))\n",
    "print(\"Root mean square error (RMSE):\", np.sqrt(metrics.mean_squared_error(y,predicted_deaths[:16])))"
   ]
  }
 ],
 "metadata": {
  "hide_input": false,
  "kernelspec": {
   "display_name": "Python 3",
   "language": "python",
   "name": "python3"
  },
  "language_info": {
   "codemirror_mode": {
    "name": "ipython",
    "version": 3
   },
   "file_extension": ".py",
   "mimetype": "text/x-python",
   "name": "python",
   "nbconvert_exporter": "python",
   "pygments_lexer": "ipython3",
   "version": "3.6.8"
  },
  "toc": {
   "base_numbering": 1,
   "nav_menu": {},
   "number_sections": true,
   "sideBar": true,
   "skip_h1_title": false,
   "title_cell": "Table of Contents",
   "title_sidebar": "Contents",
   "toc_cell": false,
   "toc_position": {},
   "toc_section_display": true,
   "toc_window_display": false
  },
  "varInspector": {
   "cols": {
    "lenName": 16,
    "lenType": 16,
    "lenVar": 40
   },
   "kernels_config": {
    "python": {
     "delete_cmd_postfix": "",
     "delete_cmd_prefix": "del ",
     "library": "var_list.py",
     "varRefreshCmd": "print(var_dic_list())"
    },
    "r": {
     "delete_cmd_postfix": ") ",
     "delete_cmd_prefix": "rm(",
     "library": "var_list.r",
     "varRefreshCmd": "cat(var_dic_list()) "
    }
   },
   "types_to_exclude": [
    "module",
    "function",
    "builtin_function_or_method",
    "instance",
    "_Feature"
   ],
   "window_display": false
  }
 },
 "nbformat": 4,
 "nbformat_minor": 2
}
